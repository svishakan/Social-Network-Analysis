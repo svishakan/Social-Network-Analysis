{
  "nbformat": 4,
  "nbformat_minor": 0,
  "metadata": {
    "colab": {
      "name": "NetworkX.ipynb",
      "provenance": [],
      "collapsed_sections": [],
      "authorship_tag": "ABX9TyOIJ6UEPSkS5IwLBWZKcB6c",
      "include_colab_link": true
    },
    "kernelspec": {
      "name": "python3",
      "display_name": "Python 3"
    },
    "language_info": {
      "name": "python"
    }
  },
  "cells": [
    {
      "cell_type": "markdown",
      "metadata": {
        "id": "view-in-github",
        "colab_type": "text"
      },
      "source": [
        "<a href=\"https://colab.research.google.com/github/svishakan/Social-Network-Analysis/blob/main/NetworkX.ipynb\" target=\"_parent\"><img src=\"https://colab.research.google.com/assets/colab-badge.svg\" alt=\"Open In Colab\"/></a>"
      ]
    },
    {
      "cell_type": "markdown",
      "metadata": {
        "id": "yIJ1HtIe5Ghw"
      },
      "source": [
        "# NetworkX Demo"
      ]
    },
    {
      "cell_type": "code",
      "metadata": {
        "id": "kplIrtXb5Bba"
      },
      "source": [
        "#Imports\n",
        "import os\n",
        "import networkx.generators.small\n",
        "import networkx as nx\n",
        "import matplotlib.pyplot as plt\n",
        "from networkx import algorithms"
      ],
      "execution_count": null,
      "outputs": []
    },
    {
      "cell_type": "markdown",
      "metadata": {
        "id": "25R3EYVo5a-8"
      },
      "source": [
        "## Krackhardt Kite Graph"
      ]
    },
    {
      "cell_type": "code",
      "metadata": {
        "id": "FXs25yR35eO3"
      },
      "source": [
        "G1 = networkx.generators.small.krackhardt_kite_graph()"
      ],
      "execution_count": null,
      "outputs": []
    },
    {
      "cell_type": "code",
      "metadata": {
        "colab": {
          "base_uri": "https://localhost:8080/"
        },
        "id": "iHvV6w9KnMBO",
        "outputId": "7ad7278e-7047-44d7-fbec-b58231ee8edc"
      },
      "source": [
        "#Information\n",
        "print(nx.info(G1))"
      ],
      "execution_count": null,
      "outputs": [
        {
          "output_type": "stream",
          "text": [
            "Graph named 'Krackhardt Kite Social Network' with 10 nodes and 18 edges\n"
          ],
          "name": "stdout"
        }
      ]
    },
    {
      "cell_type": "code",
      "metadata": {
        "colab": {
          "base_uri": "https://localhost:8080/"
        },
        "id": "TRqzU41j5krI",
        "outputId": "5f998ba5-4307-4918-8287-5f31c82f9c7b"
      },
      "source": [
        "#Number of Edges\n",
        "G1.number_of_edges()"
      ],
      "execution_count": null,
      "outputs": [
        {
          "output_type": "execute_result",
          "data": {
            "text/plain": [
              "18"
            ]
          },
          "metadata": {},
          "execution_count": 4
        }
      ]
    },
    {
      "cell_type": "code",
      "metadata": {
        "colab": {
          "base_uri": "https://localhost:8080/"
        },
        "id": "afKWNnP45olE",
        "outputId": "2fa4a236-c496-4732-b272-5d0ee41eb877"
      },
      "source": [
        "#Number of Nodes\n",
        "G1.number_of_nodes()"
      ],
      "execution_count": null,
      "outputs": [
        {
          "output_type": "execute_result",
          "data": {
            "text/plain": [
              "10"
            ]
          },
          "metadata": {},
          "execution_count": 5
        }
      ]
    },
    {
      "cell_type": "code",
      "metadata": {
        "colab": {
          "base_uri": "https://localhost:8080/"
        },
        "id": "e4rWfRaL5r_U",
        "outputId": "29198f40-d81f-4da9-8dc2-ff983427df92"
      },
      "source": [
        "#Adjacency List\n",
        "dict((x, list(G1.neighbors(x))) for x in G1.nodes())"
      ],
      "execution_count": null,
      "outputs": [
        {
          "output_type": "execute_result",
          "data": {
            "text/plain": [
              "{0: [1, 2, 3, 5],\n",
              " 1: [0, 3, 4, 6],\n",
              " 2: [0, 3, 5],\n",
              " 3: [0, 1, 2, 4, 5, 6],\n",
              " 4: [1, 3, 6],\n",
              " 5: [0, 2, 3, 6, 7],\n",
              " 6: [1, 3, 4, 5, 7],\n",
              " 7: [5, 6, 8],\n",
              " 8: [7, 9],\n",
              " 9: [8]}"
            ]
          },
          "metadata": {},
          "execution_count": 6
        }
      ]
    },
    {
      "cell_type": "code",
      "metadata": {
        "colab": {
          "base_uri": "https://localhost:8080/",
          "height": 335
        },
        "id": "b5i42BAB5QBC",
        "outputId": "fc98eef2-a5b6-48f3-fc80-ba8bb567fdf1"
      },
      "source": [
        "#Visual Representation\n",
        "node_color = [G1.degree(v) for v in G1]\n",
        "nx.draw(G1, with_labels=True, node_size=1000, node_shape='o', \n",
        "        node_color=node_color, font_size=25, cmap=plt.cm.cool)\n",
        "plt.title(\"Krackhardt Kite Graph\")\n",
        "plt.show()"
      ],
      "execution_count": null,
      "outputs": [
        {
          "output_type": "display_data",
          "data": {
            "image/png": "[encoded data removed]",
            "text/plain": [
              "<Figure size 432x288 with 1 Axes>"
            ]
          },
          "metadata": {}
        }
      ]
    },
    {
      "cell_type": "code",
      "metadata": {
        "colab": {
          "base_uri": "https://localhost:8080/"
        },
        "id": "1H8zJmH-8lyx",
        "outputId": "25ac9943-68b2-418f-c771-af79682e37e0"
      },
      "source": [
        "#DFS Traversal\n",
        "list(nx.dfs_edges(G1, source=0))"
      ],
      "execution_count": null,
      "outputs": [
        {
          "output_type": "execute_result",
          "data": {
            "text/plain": [
              "[(0, 1), (1, 3), (3, 2), (2, 5), (5, 6), (6, 4), (6, 7), (7, 8), (8, 9)]"
            ]
          },
          "metadata": {},
          "execution_count": 8
        }
      ]
    },
    {
      "cell_type": "code",
      "metadata": {
        "colab": {
          "base_uri": "https://localhost:8080/"
        },
        "id": "q10EKgny9edr",
        "outputId": "a1b9dff1-4e9a-42b9-9b8a-bc7d7b35aa26"
      },
      "source": [
        "#DFS Tree\n",
        "list(nx.dfs_tree(G1, source=0).edges())"
      ],
      "execution_count": null,
      "outputs": [
        {
          "output_type": "execute_result",
          "data": {
            "text/plain": [
              "[(0, 1), (1, 3), (3, 2), (2, 5), (5, 6), (6, 4), (6, 7), (7, 8), (8, 9)]"
            ]
          },
          "metadata": {},
          "execution_count": 9
        }
      ]
    },
    {
      "cell_type": "code",
      "metadata": {
        "colab": {
          "base_uri": "https://localhost:8080/"
        },
        "id": "Lc40tCC69nup",
        "outputId": "5b74cf59-2128-454e-d4bb-5eee513b51b3"
      },
      "source": [
        "#DFS Sucessors\n",
        "nx.dfs_successors(G1, source=0)"
      ],
      "execution_count": null,
      "outputs": [
        {
          "output_type": "execute_result",
          "data": {
            "text/plain": [
              "{0: [1], 1: [3], 2: [5], 3: [2], 5: [6], 6: [4, 7], 7: [8], 8: [9]}"
            ]
          },
          "metadata": {},
          "execution_count": 10
        }
      ]
    },
    {
      "cell_type": "code",
      "metadata": {
        "colab": {
          "base_uri": "https://localhost:8080/"
        },
        "id": "k1svZllq92Lf",
        "outputId": "02f4795d-b4a1-4dce-df35-77ce52a9dd65"
      },
      "source": [
        "#Shortest Path from Source to Destination\n",
        "algorithms.shortest_path(G1, 1, 9)"
      ],
      "execution_count": null,
      "outputs": [
        {
          "output_type": "execute_result",
          "data": {
            "text/plain": [
              "[1, 6, 7, 8, 9]"
            ]
          },
          "metadata": {},
          "execution_count": 11
        }
      ]
    },
    {
      "cell_type": "code",
      "metadata": {
        "colab": {
          "base_uri": "https://localhost:8080/"
        },
        "id": "3uLThyJH-F4W",
        "outputId": "3ef11199-3906-4e1a-d185-bbeee50936ad"
      },
      "source": [
        "#Average Shortest Path Length\n",
        "print(\"Average Shortest Path Length of G1:\", round(algorithms.average_shortest_path_length(G1), 2))"
      ],
      "execution_count": null,
      "outputs": [
        {
          "output_type": "stream",
          "text": [
            "Average Shortest Path Length of G1: 1.98\n"
          ],
          "name": "stdout"
        }
      ]
    },
    {
      "cell_type": "code",
      "metadata": {
        "colab": {
          "base_uri": "https://localhost:8080/"
        },
        "id": "cnjVxB8y-Kes",
        "outputId": "30e0ac80-6277-42c1-ce1e-f7b0298e7313"
      },
      "source": [
        "#Degree Centrality = Degree of Node / N - 1\n",
        "degree_centralities = nx.degree_centrality(G1)\n",
        "\n",
        "for node in degree_centralities.keys():\n",
        "    degree_centralities[node] = round(degree_centralities[node], 2)\n",
        "\n",
        "print(degree_centralities)"
      ],
      "execution_count": null,
      "outputs": [
        {
          "output_type": "stream",
          "text": [
            "{0: 0.44, 1: 0.44, 2: 0.33, 3: 0.67, 4: 0.33, 5: 0.56, 6: 0.56, 7: 0.33, 8: 0.22, 9: 0.11}\n"
          ],
          "name": "stdout"
        }
      ]
    },
    {
      "cell_type": "code",
      "metadata": {
        "colab": {
          "base_uri": "https://localhost:8080/"
        },
        "id": "7kRZNO03-ZO7",
        "outputId": "7f56c176-3db7-4737-d8c9-ae792321c95f"
      },
      "source": [
        "#Betweenness Centrality (For Node 8: 8/36 = 0.22)\n",
        "# ([N-1][N-2]/2 = 36, 8 is the no. of times Node 8 is included \n",
        "# in shortest paths for all node combinations other than it as source/dest)\n",
        "betweenness_centralities = nx.betweenness_centrality(G1)\n",
        "\n",
        "for node in betweenness_centralities.keys():\n",
        "    betweenness_centralities[node] = round(betweenness_centralities[node], 2)\n",
        "\n",
        "print(betweenness_centralities)"
      ],
      "execution_count": null,
      "outputs": [
        {
          "output_type": "stream",
          "text": [
            "{0: 0.02, 1: 0.02, 2: 0.0, 3: 0.1, 4: 0.0, 5: 0.23, 6: 0.23, 7: 0.39, 8: 0.22, 9: 0.0}\n"
          ],
          "name": "stdout"
        }
      ]
    },
    {
      "cell_type": "code",
      "metadata": {
        "colab": {
          "base_uri": "https://localhost:8080/"
        },
        "id": "F2d4aooneuUa",
        "outputId": "6c5ff553-c160-467e-cda8-cf1c9327855b"
      },
      "source": [
        "#Edge Betweenness Centrality \n",
        "# Fraction of edge that contains them / Set of all Shortest Paths in Graph\n",
        "edge_between_centralities = nx.edge_betweenness_centrality(G1)\n",
        "\n",
        "for node in edge_between_centralities.keys():\n",
        "    edge_between_centralities[node] = round(edge_between_centralities[node], 2)\n",
        "\n",
        "print(edge_between_centralities)"
      ],
      "execution_count": null,
      "outputs": [
        {
          "output_type": "stream",
          "text": [
            "{(0, 1): 0.06, (0, 2): 0.03, (0, 3): 0.04, (0, 5): 0.1, (1, 3): 0.04, (1, 4): 0.03, (1, 6): 0.1, (2, 3): 0.07, (2, 5): 0.1, (3, 4): 0.07, (3, 5): 0.07, (3, 6): 0.07, (4, 6): 0.1, (5, 6): 0.06, (5, 7): 0.23, (6, 7): 0.23, (7, 8): 0.36, (8, 9): 0.2}\n"
          ],
          "name": "stdout"
        }
      ]
    },
    {
      "cell_type": "code",
      "metadata": {
        "colab": {
          "base_uri": "https://localhost:8080/"
        },
        "id": "UjEPG5BufqzU",
        "outputId": "5b8233ad-81b6-443f-8eff-1abc11552c32"
      },
      "source": [
        "#Cliques\n",
        "#For node N, a maximal clique for N is a largest complete subgraph containing N\n",
        "list(nx.find_cliques(G1))"
      ],
      "execution_count": null,
      "outputs": [
        {
          "output_type": "execute_result",
          "data": {
            "text/plain": [
              "[[8, 9], [8, 7], [3, 0, 1], [3, 0, 2, 5], [3, 4, 1, 6], [3, 6, 5], [7, 5, 6]]"
            ]
          },
          "metadata": {},
          "execution_count": 16
        }
      ]
    },
    {
      "cell_type": "code",
      "metadata": {
        "colab": {
          "base_uri": "https://localhost:8080/"
        },
        "id": "fQK0H-TGhY8_",
        "outputId": "da887179-5540-4e48-fa39-fc750ded2416"
      },
      "source": [
        "#Eccentricity\n",
        "#The eccentricity of node N is the max. distance from N to all other nodes in G\n",
        "nx.eccentricity(G1)"
      ],
      "execution_count": null,
      "outputs": [
        {
          "output_type": "execute_result",
          "data": {
            "text/plain": [
              "{0: 4, 1: 4, 2: 4, 3: 4, 4: 4, 5: 3, 6: 3, 7: 2, 8: 3, 9: 4}"
            ]
          },
          "metadata": {},
          "execution_count": 17
        }
      ]
    },
    {
      "cell_type": "code",
      "metadata": {
        "colab": {
          "base_uri": "https://localhost:8080/"
        },
        "id": "-ZHXZG_8g4re",
        "outputId": "499ad741-1ee7-47d5-8d1a-b769fbc86c3d"
      },
      "source": [
        "#Diameter\n",
        "#The diameter is the maximum eccentricity.\n",
        "nx.diameter(G1)"
      ],
      "execution_count": null,
      "outputs": [
        {
          "output_type": "execute_result",
          "data": {
            "text/plain": [
              "4"
            ]
          },
          "metadata": {},
          "execution_count": 18
        }
      ]
    },
    {
      "cell_type": "code",
      "metadata": {
        "colab": {
          "base_uri": "https://localhost:8080/"
        },
        "id": "IDI078d8hGKN",
        "outputId": "5062a783-9ea0-46e5-80fc-fc63ea4ed4af"
      },
      "source": [
        "#Center\n",
        "#The center is the set of nodes with eccentricity equal to radius.\n",
        "nx.center(G1)"
      ],
      "execution_count": null,
      "outputs": [
        {
          "output_type": "execute_result",
          "data": {
            "text/plain": [
              "[7]"
            ]
          },
          "metadata": {},
          "execution_count": 19
        }
      ]
    },
    {
      "cell_type": "code",
      "metadata": {
        "colab": {
          "base_uri": "https://localhost:8080/"
        },
        "id": "teQ5fdTWhIuB",
        "outputId": "412c1447-8829-4417-85b9-4c509ed973b7"
      },
      "source": [
        "#Periphery\n",
        "#The periphery is the set of nodes with eccentricity equal to the diameter\n",
        "nx.periphery(G1)"
      ],
      "execution_count": null,
      "outputs": [
        {
          "output_type": "execute_result",
          "data": {
            "text/plain": [
              "[0, 1, 2, 3, 4, 9]"
            ]
          },
          "metadata": {},
          "execution_count": 20
        }
      ]
    },
    {
      "cell_type": "code",
      "metadata": {
        "colab": {
          "base_uri": "https://localhost:8080/"
        },
        "id": "0lLycRqUj4CQ",
        "outputId": "41112b52-b492-4fd5-f0dd-7a57851e4201"
      },
      "source": [
        "#Bridges\n",
        "list(nx.bridges(G1))"
      ],
      "execution_count": null,
      "outputs": [
        {
          "output_type": "execute_result",
          "data": {
            "text/plain": [
              "[(7, 8), (8, 9)]"
            ]
          },
          "metadata": {},
          "execution_count": 21
        }
      ]
    },
    {
      "cell_type": "code",
      "metadata": {
        "colab": {
          "base_uri": "https://localhost:8080/"
        },
        "id": "AjN3rnDmmefa",
        "outputId": "a2d65a39-bb15-4cc3-d976-9a028f633bc3"
      },
      "source": [
        "#Node Connectivity\n",
        "#Min. number of edges that must be removed to disconnect G or render it trivial.\n",
        "nx.node_connectivity(G1)"
      ],
      "execution_count": null,
      "outputs": [
        {
          "output_type": "execute_result",
          "data": {
            "text/plain": [
              "1"
            ]
          },
          "metadata": {},
          "execution_count": 22
        }
      ]
    },
    {
      "cell_type": "code",
      "metadata": {
        "colab": {
          "base_uri": "https://localhost:8080/"
        },
        "id": "m2O3C1uLmeYM",
        "outputId": "a2a27f1c-8d1f-4041-c5a1-1980e32c1eab"
      },
      "source": [
        "#Edge Connectivity\n",
        "#Min. number of nodes that must be removed to disconnect G or render it trivial.\n",
        "nx.edge_connectivity(G1)"
      ],
      "execution_count": null,
      "outputs": [
        {
          "output_type": "execute_result",
          "data": {
            "text/plain": [
              "1"
            ]
          },
          "metadata": {},
          "execution_count": 23
        }
      ]
    },
    {
      "cell_type": "code",
      "metadata": {
        "colab": {
          "base_uri": "https://localhost:8080/"
        },
        "id": "e2jp0x8ThL_z",
        "outputId": "30e4229f-3615-4173-c31e-b99a99e6a0c8"
      },
      "source": [
        "#Is G1 Eulerian?\n",
        "#A graph is Eulerian if it has an Eulerian circuit. \n",
        "#Eulerian circuit: A closed walk that includes each edge of a graph exactly once\n",
        "print(\"G1 is Eulerian:\", nx.is_eulerian(G1))"
      ],
      "execution_count": null,
      "outputs": [
        {
          "output_type": "stream",
          "text": [
            "G1 is Eulerian: False\n"
          ],
          "name": "stdout"
        }
      ]
    },
    {
      "cell_type": "code",
      "metadata": {
        "colab": {
          "base_uri": "https://localhost:8080/"
        },
        "id": "scmNNKgUkENM",
        "outputId": "61a428b6-ab8e-44d8-ab9c-621add08ccfa"
      },
      "source": [
        "#Convert to Eulerian Graph\n",
        "G2 = nx.eulerize(G1)\n",
        "G2.number_of_edges() #Edges(G1) = 18"
      ],
      "execution_count": null,
      "outputs": [
        {
          "output_type": "execute_result",
          "data": {
            "text/plain": [
              "22"
            ]
          },
          "metadata": {},
          "execution_count": 25
        }
      ]
    },
    {
      "cell_type": "code",
      "metadata": {
        "colab": {
          "base_uri": "https://localhost:8080/",
          "height": 335
        },
        "id": "wBXlVpJFkOF-",
        "outputId": "e9281590-b029-4ebf-c381-3432f628f11a"
      },
      "source": [
        "node_color = [G2.degree(v) for v in G2]\n",
        "nx.draw(G2, with_labels=True, node_size=1000, node_shape='o', \n",
        "        node_color=node_color, font_size=25, cmap=plt.cm.cool)\n",
        "plt.title(\"Eulerized Krackhardt Kite Graph\")\n",
        "plt.show()"
      ],
      "execution_count": null,
      "outputs": [
        {
          "output_type": "display_data",
          "data": {
            "image/png": "[encoded data removed]",
            "text/plain": [
              "<Figure size 432x288 with 1 Axes>"
            ]
          },
          "metadata": {}
        }
      ]
    },
    {
      "cell_type": "code",
      "metadata": {
        "colab": {
          "base_uri": "https://localhost:8080/"
        },
        "id": "BNyIZeiXkMJJ",
        "outputId": "bcf3ea3e-de5f-4b07-bdb7-77827de717df"
      },
      "source": [
        "#Is G2 Eulerian?\n",
        "print(\"G2 is Eulerian:\", nx.is_eulerian(G2))"
      ],
      "execution_count": null,
      "outputs": [
        {
          "output_type": "stream",
          "text": [
            "G2 is Eulerian: True\n"
          ],
          "name": "stdout"
        }
      ]
    },
    {
      "cell_type": "code",
      "metadata": {
        "colab": {
          "base_uri": "https://localhost:8080/"
        },
        "id": "U3H_gIqyj5oo",
        "outputId": "4318768f-7722-495a-f403-13b02020a3ad"
      },
      "source": [
        "print(list(nx.eulerian_path(G2)))"
      ],
      "execution_count": null,
      "outputs": [
        {
          "output_type": "stream",
          "text": [
            "[(0, 1), (1, 3), (3, 0), (0, 2), (2, 3), (3, 4), (4, 1), (1, 6), (6, 3), (3, 5), (5, 2), (2, 5), (5, 6), (6, 4), (4, 6), (6, 7), (7, 8), (8, 9), (9, 8), (8, 7), (7, 5), (5, 0)]\n"
          ],
          "name": "stdout"
        }
      ]
    },
    {
      "cell_type": "code",
      "metadata": {
        "colab": {
          "base_uri": "https://localhost:8080/"
        },
        "id": "AuNtpSV6lr8Q",
        "outputId": "3c32559a-da07-4902-eb99-c8f38c6eeb5a"
      },
      "source": [
        "#Jaccard Coefficient\n",
        "list(nx.jaccard_coefficient(G1))"
      ],
      "execution_count": null,
      "outputs": [
        {
          "output_type": "execute_result",
          "data": {
            "text/plain": [
              "[(0, 4, 0.4),\n",
              " (0, 6, 0.5),\n",
              " (0, 7, 0.16666666666666666),\n",
              " (0, 8, 0.0),\n",
              " (0, 9, 0.0),\n",
              " (1, 2, 0.4),\n",
              " (1, 5, 0.5),\n",
              " (1, 7, 0.16666666666666666),\n",
              " (1, 8, 0.0),\n",
              " (1, 9, 0.0),\n",
              " (2, 4, 0.2),\n",
              " (2, 6, 0.3333333333333333),\n",
              " (2, 7, 0.2),\n",
              " (2, 8, 0.0),\n",
              " (2, 9, 0.0),\n",
              " (3, 8, 0.0),\n",
              " (3, 9, 0.0),\n",
              " (3, 7, 0.2857142857142857),\n",
              " (4, 8, 0.0),\n",
              " (4, 9, 0.0),\n",
              " (4, 5, 0.3333333333333333),\n",
              " (4, 7, 0.2),\n",
              " (5, 8, 0.16666666666666666),\n",
              " (5, 9, 0.0),\n",
              " (6, 8, 0.16666666666666666),\n",
              " (6, 9, 0.0),\n",
              " (7, 9, 0.3333333333333333)]"
            ]
          },
          "metadata": {},
          "execution_count": 29
        }
      ]
    },
    {
      "cell_type": "code",
      "metadata": {
        "colab": {
          "base_uri": "https://localhost:8080/"
        },
        "id": "anWImJ96oPKk",
        "outputId": "0ad2b246-bcf5-436d-923b-d3b680d925a8"
      },
      "source": [
        "#Single Source Shortest Paths\n",
        "paths = nx.single_source_shortest_path(G1, source=0)\n",
        "\n",
        "for node in paths.keys():\n",
        "    print(\"0 to\", node, \":\", paths[node])"
      ],
      "execution_count": null,
      "outputs": [
        {
          "output_type": "stream",
          "text": [
            "0 to 0 : [0]\n",
            "0 to 1 : [0, 1]\n",
            "0 to 2 : [0, 2]\n",
            "0 to 3 : [0, 3]\n",
            "0 to 5 : [0, 5]\n",
            "0 to 4 : [0, 1, 4]\n",
            "0 to 6 : [0, 1, 6]\n",
            "0 to 7 : [0, 5, 7]\n",
            "0 to 8 : [0, 5, 7, 8]\n",
            "0 to 9 : [0, 5, 7, 8, 9]\n"
          ],
          "name": "stdout"
        }
      ]
    },
    {
      "cell_type": "code",
      "metadata": {
        "colab": {
          "base_uri": "https://localhost:8080/"
        },
        "id": "7ZjEhnGxnLkD",
        "outputId": "80920f7a-6e42-4576-b97b-4f5c51ab3516"
      },
      "source": [
        "#Closeness Centrality\n",
        "#(N-1 / Sum of distance from node to all other nodes)\n",
        "\n",
        "closeness_centralities = nx.eigenvector_centrality(G1)\n",
        "\n",
        "for node in closeness_centralities.keys():\n",
        "    closeness_centralities[node] = round(closeness_centralities[node], 2)\n",
        "\n",
        "print(closeness_centralities)"
      ],
      "execution_count": null,
      "outputs": [
        {
          "output_type": "stream",
          "text": [
            "{0: 0.35, 1: 0.35, 2: 0.29, 3: 0.48, 4: 0.29, 5: 0.4, 6: 0.4, 7: 0.2, 8: 0.05, 9: 0.01}\n"
          ],
          "name": "stdout"
        }
      ]
    },
    {
      "cell_type": "code",
      "metadata": {
        "colab": {
          "base_uri": "https://localhost:8080/"
        },
        "id": "KWEzFWSloDpz",
        "outputId": "bf01cea4-4e0d-4d71-d963-f1a022c5c010"
      },
      "source": [
        "#PageRank Centrality\n",
        "#Determined based on incoming links\n",
        "pageranks = nx.pagerank(G1)\n",
        "\n",
        "for node in pageranks.keys():\n",
        "    pageranks[node] = round(pageranks[node], 2)\n",
        "\n",
        "print(pageranks)"
      ],
      "execution_count": null,
      "outputs": [
        {
          "output_type": "stream",
          "text": [
            "{0: 0.1, 1: 0.1, 2: 0.08, 3: 0.15, 4: 0.08, 5: 0.13, 6: 0.13, 7: 0.1, 8: 0.09, 9: 0.05}\n"
          ],
          "name": "stdout"
        }
      ]
    },
    {
      "cell_type": "code",
      "metadata": {
        "colab": {
          "base_uri": "https://localhost:8080/"
        },
        "id": "rGC15InyoBrB",
        "outputId": "1a40e8d9-de68-402d-aefa-968d674adca8"
      },
      "source": [
        "#Eigen Vector Centrality\n",
        "eigen_centrality = nx.eigenvector_centrality(G1)\n",
        "\n",
        "for node in eigen_centrality.keys():\n",
        "    eigen_centrality[node] = round(eigen_centrality[node], 2)\n",
        "\n",
        "print(eigen_centrality)"
      ],
      "execution_count": null,
      "outputs": [
        {
          "output_type": "stream",
          "text": [
            "{0: 0.35, 1: 0.35, 2: 0.29, 3: 0.48, 4: 0.29, 5: 0.4, 6: 0.4, 7: 0.2, 8: 0.05, 9: 0.01}\n"
          ],
          "name": "stdout"
        }
      ]
    },
    {
      "cell_type": "markdown",
      "metadata": {
        "id": "4-XTPfqFtLe9"
      },
      "source": [
        "## Directed Graph"
      ]
    },
    {
      "cell_type": "code",
      "metadata": {
        "id": "WfFm66wKpkwu"
      },
      "source": [
        "#Directed Graph\n",
        "G3 = networkx.generators.gn_graph(10)"
      ],
      "execution_count": null,
      "outputs": []
    },
    {
      "cell_type": "code",
      "metadata": {
        "colab": {
          "base_uri": "https://localhost:8080/",
          "height": 335
        },
        "id": "9haDO5xXpuPx",
        "outputId": "0caa0a8e-528e-4027-a46a-ba8046677905"
      },
      "source": [
        "node_color = [G3.degree(v) for v in G3]\n",
        "nx.draw(G3, with_labels=True, node_size=1000, node_shape='o', \n",
        "        node_color=node_color, font_size=25, cmap=plt.cm.coolwarm)\n",
        "plt.title(\"Directed Graph\")\n",
        "plt.show()"
      ],
      "execution_count": null,
      "outputs": [
        {
          "output_type": "display_data",
          "data": {
            "image/png": "[encoded data removed]",
            "text/plain": [
              "<Figure size 432x288 with 1 Axes>"
            ]
          },
          "metadata": {}
        }
      ]
    },
    {
      "cell_type": "code",
      "metadata": {
        "colab": {
          "base_uri": "https://localhost:8080/"
        },
        "id": "ebUl1YMgp0iw",
        "outputId": "132eb1ad-9125-4afe-ce1e-e7c86d191d90"
      },
      "source": [
        "#Hamiltonian Path\n",
        "nx.algorithms.tournament.hamiltonian_path(G3)"
      ],
      "execution_count": null,
      "outputs": [
        {
          "output_type": "execute_result",
          "data": {
            "text/plain": [
              "[1, 0, 3, 2, 4, 5, 8, 9, 6, 7]"
            ]
          },
          "metadata": {},
          "execution_count": 36
        }
      ]
    },
    {
      "cell_type": "code",
      "metadata": {
        "colab": {
          "base_uri": "https://localhost:8080/"
        },
        "id": "HY21f-phrN-Y",
        "outputId": "1776d95c-09bf-4be5-8004-70a37af992b2"
      },
      "source": [
        "#Strong Connectivity\n",
        "#If and only if every vertex in the graph is reachable from every other vertex.\n",
        "nx.is_strongly_connected(G3)"
      ],
      "execution_count": null,
      "outputs": [
        {
          "output_type": "execute_result",
          "data": {
            "text/plain": [
              "False"
            ]
          },
          "metadata": {},
          "execution_count": 37
        }
      ]
    },
    {
      "cell_type": "code",
      "metadata": {
        "colab": {
          "base_uri": "https://localhost:8080/"
        },
        "id": "srkJ0-fLrW1f",
        "outputId": "a6012251-91fd-4d0f-955d-a5bdc5e3d582"
      },
      "source": [
        "#Weak Connectivity\n",
        "#If and only if the graph is connected when the edge direction is ignored.\n",
        "nx.is_weakly_connected(G3)"
      ],
      "execution_count": null,
      "outputs": [
        {
          "output_type": "execute_result",
          "data": {
            "text/plain": [
              "True"
            ]
          },
          "metadata": {},
          "execution_count": 38
        }
      ]
    },
    {
      "cell_type": "code",
      "metadata": {
        "colab": {
          "base_uri": "https://localhost:8080/"
        },
        "id": "6KXa2aSwrzxQ",
        "outputId": "244e3a61-65dc-4e58-c245-4c2c167f26e3"
      },
      "source": [
        "#All Pairs Shortest Paths\n",
        "list(nx.all_pairs_dijkstra_path(G3))"
      ],
      "execution_count": null,
      "outputs": [
        {
          "output_type": "execute_result",
          "data": {
            "text/plain": [
              "[(0, {0: [0]}),\n",
              " (1, {0: [1, 0], 1: [1]}),\n",
              " (2, {0: [2, 1, 0], 1: [2, 1], 2: [2]}),\n",
              " (3, {0: [3, 2, 1, 0], 1: [3, 2, 1], 2: [3, 2], 3: [3]}),\n",
              " (4, {0: [4, 1, 0], 1: [4, 1], 4: [4]}),\n",
              " (5, {0: [5, 2, 1, 0], 1: [5, 2, 1], 2: [5, 2], 5: [5]}),\n",
              " (6, {0: [6, 0], 6: [6]}),\n",
              " (7, {0: [7, 2, 1, 0], 1: [7, 2, 1], 2: [7, 2], 7: [7]}),\n",
              " (8, {0: [8, 6, 0], 6: [8, 6], 8: [8]}),\n",
              " (9, {0: [9, 1, 0], 1: [9, 1], 9: [9]})]"
            ]
          },
          "metadata": {},
          "execution_count": 39
        }
      ]
    },
    {
      "cell_type": "code",
      "metadata": {
        "colab": {
          "base_uri": "https://localhost:8080/"
        },
        "id": "q7XpaSdRsBDT",
        "outputId": "23374d51-3b74-4f8e-f39d-f31e24a311c7"
      },
      "source": [
        "#Is Bipartite?\n",
        "nx.is_bipartite(G3)"
      ],
      "execution_count": null,
      "outputs": [
        {
          "output_type": "execute_result",
          "data": {
            "text/plain": [
              "True"
            ]
          },
          "metadata": {},
          "execution_count": 40
        }
      ]
    },
    {
      "cell_type": "code",
      "metadata": {
        "colab": {
          "base_uri": "https://localhost:8080/"
        },
        "id": "zYTQk2l_ssPE",
        "outputId": "b8dbadf7-debb-42c6-9864-b65ad8277b73"
      },
      "source": [
        "#Bipartite Node Sets\n",
        "nx.bipartite.sets(G3)"
      ],
      "execution_count": null,
      "outputs": [
        {
          "output_type": "execute_result",
          "data": {
            "text/plain": [
              "({1, 3, 5, 6, 7}, {0, 2, 4, 8, 9})"
            ]
          },
          "metadata": {},
          "execution_count": 41
        }
      ]
    },
    {
      "cell_type": "markdown",
      "metadata": {
        "id": "mS5GppR122jC"
      },
      "source": [
        "## Directed Graph - File I/O"
      ]
    },
    {
      "cell_type": "code",
      "metadata": {
        "id": "D7xamPcN21mj"
      },
      "source": [
        "data_file = open(\"data.txt\", \"w\")\n",
        "\n",
        "edges = [\"Kolkata Mumbai 2031\\n\",\n",
        "        \"Mumbai Pune 155\\n\",\n",
        "        \"Mumbai Goa 571\\n\",\n",
        "        \"Kolkata Delhi 1492\\n\",\n",
        "        \"Kolkata Bhubaneshwar 444\\n\",\n",
        "        \"Mumbai Delhi 1424\\n\",\n",
        "        \"Delhi Chandigarh 243\\n\",\n",
        "        \"Delhi Surat 1208\\n\",\n",
        "        \"Kolkata Hyderabad 1495\\n\",\n",
        "        \"Hyderabad Chennai 626\\n\",\n",
        "        \"Chennai Trivandrum 773\\n\",\n",
        "        \"Trivandrum Hyderabad 1299\\n\",\n",
        "        \"Kolkata Varanasi 679\\n\",\n",
        "        \"Delhi Varanasi 821\\n\",\n",
        "        \"Mumbai Bangalore 984\\n\",\n",
        "        \"Chennai Bangalore 347\\n\",\n",
        "        \"Hyderabad Bangalore 575\\n\",\n",
        "        \"Kolkata Guwahati 1031\\n\"]\n",
        "\n",
        "data_file.writelines(edges)\n",
        "\n",
        "data_file.close()"
      ],
      "execution_count": null,
      "outputs": []
    },
    {
      "cell_type": "code",
      "metadata": {
        "id": "nBobdBOE3mAL"
      },
      "source": [
        "G4 = nx.read_weighted_edgelist(\"data.txt\", delimiter=\" \")"
      ],
      "execution_count": null,
      "outputs": []
    },
    {
      "cell_type": "code",
      "metadata": {
        "colab": {
          "base_uri": "https://localhost:8080/",
          "height": 335
        },
        "id": "C1YdlEvf4d_C",
        "outputId": "4387f971-be49-4dab-f159-54f137d8768e"
      },
      "source": [
        "node_color = [G4.degree(v) for v in G4]\n",
        "edge_width = [0.0015 * G4[u][v]['weight'] for u, v in G4.edges()]\n",
        "\n",
        "nx.draw(G4, with_labels=True, node_size=1000, node_shape='o', width=edge_width,\n",
        "        node_color=node_color, cmap=plt.cm.Accent)\n",
        "plt.title(\"Cities Weighted Graph\")\n",
        "plt.show()"
      ],
      "execution_count": null,
      "outputs": [
        {
          "output_type": "display_data",
          "data": {
            "image/png": "[encoded data removed]",
            "text/plain": [
              "<Figure size 432x288 with 1 Axes>"
            ]
          },
          "metadata": {}
        }
      ]
    }
  ]
}